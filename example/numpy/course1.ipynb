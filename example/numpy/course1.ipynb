{
 "cells": [
  {
   "cell_type": "markdown",
   "id": "4a903d39",
   "metadata": {},
   "source": [
    "<h1><b>Numpy</b></h1>\n",
    "<hr>"
   ]
  },
  {
   "cell_type": "markdown",
   "id": "20aa6705",
   "metadata": {},
   "source": [
    "<h3><b>개요</b></h3>\n",
    "<p>\n",
    "이번의 목표는 NumPy의 실제 사용방법을 이해하는 것 입니다. NumPy는 Python 데이터 분석 패키지 입니다.<br>\n",
    "NumPy로 워크플로우 속도 향샹, scikit-learn과 같은 Numpy내부 패키지와 연동 할 수 있습니다.<br>\n",
    "NumPy는 2000년 중반에 개발 되었으며, Numeric이라는 더 오래된 패키지에서 파생되었습니다.<br>\n",
    "그리고 지금은 데이터 분석, 머신러닝과 같은 분야에 대부분 NumPy를 이용하고 있습니다.\n",
    "</p>\n",
    "<hr>"
   ]
  },
  {
   "cell_type": "markdown",
   "id": "e30dbf49",
   "metadata": {},
   "source": [
    "<h3><b>역할<b></h3>\n",
    "<p>여기서 NumPy 라이브러리를 직접 사용해 보고, 데이터 배열을 생성하고, 슬라이싱하고, 조작하는 기본 원리를 배워봅시다.</p>\n",
    "<hr>"
   ]
  },
  {
   "cell_type": "markdown",
   "id": "97c5bf5d",
   "metadata": {},
   "source": [
    "<h3><b>목표<b></h3>\n",
    "<p>Python에서 수치형 데이터를 효율적으로 조작, 분석하고 통찰력을 추출하기 위한 기본적인 NumPy 연산과 기술을 익힙니다.</p>\n",
    "<hr>"
   ]
  },
  {
   "cell_type": "markdown",
   "id": "27415f1c",
   "metadata": {},
   "source": [
    "<h3><b>가상환경 설정하기<b></h3>\n",
    "<ol>\n",
    "    <li>python 3.X</li>\n",
    "    <li>NumPy</li>\n",
    "    <li>Jupyter or Jupyterlab</li>\n",
    "</ol>\n",
    "<hr>"
   ]
  },
  {
   "cell_type": "markdown",
   "id": "46d1a570",
   "metadata": {},
   "source": [
    "<b>아래 버튼 눌러서 가상환경 생성 영상 ⬇️ </b><br>\n",
    "[가상환경 만들기](https://example.com)"
   ]
  },
  {
   "cell_type": "code",
   "execution_count": 1,
   "id": "9549a134",
   "metadata": {},
   "outputs": [],
   "source": [
    "# numpy 불러오기\n",
    "import numpy as np"
   ]
  },
  {
   "cell_type": "markdown",
   "id": "928e4d73",
   "metadata": {},
   "source": [
    "<h2><b>연습1:</b> 첫 번째 NumPy 배열</h2>"
   ]
  },
  {
   "cell_type": "markdown",
   "id": "cffff811",
   "metadata": {},
   "source": [
    "문제: integeran , a float, a, a string, a dictionary, a list, tuplea, seta 를 포함하는 NumPy 배열을 만듭니다 boolean. Python 파일 끝이나 Jupyter Notebook 셀에 다음 코드를 추가합니다."
   ]
  },
  {
   "cell_type": "code",
   "execution_count": 2,
   "id": "94a5d704",
   "metadata": {},
   "outputs": [
    {
     "name": "stdout",
     "output_type": "stream",
     "text": [
      "<class 'numpy.ndarray'>\n",
      "<class 'int'>\n",
      "<class 'float'>\n",
      "<class 'str'>\n",
      "<class 'dict'>\n",
      "<class 'list'>\n",
      "<class 'tuple'>\n",
      "<class 'set'>\n",
      "<class 'bool'>\n"
     ]
    }
   ],
   "source": [
    "my_np_array = (int(), float(), str(), dict(), list(), tuple(), set(), bool()) # int, float, string, dictionary, list, tuple, set, bool 타입들을 가진 변수 생성\n",
    "my_np_array = np.array([int(), float(), str(), dict(), list(), tuple(), set(), bool()], dtype=object) # Numpy 배열로 만들기\n",
    "print(type(my_np_array)) # Numpy 배열이 맞는지 확인하기\n",
    "\n",
    "# 문제 확인 (int, float, string, dictionary, list, tuple, set, bool)타입들이 잘 나오는지 확인\n",
    "for i in my_np_array:\n",
    "    print(type(i))\n",
    "\n",
    "#1번 문제"
   ]
  },
  {
   "cell_type": "markdown",
   "id": "84024887",
   "metadata": {},
   "source": [
    "<h2><b>연습2:</b> 0</h2>"
   ]
  },
  {
   "cell_type": "markdown",
   "id": "f3a57b3d",
   "metadata": {},
   "source": [
    "- <b>이 연습의 목표는 0으로 구성된 NumPy 배열을 만드는 방법을 배우는 것입니다.</b>\n",
    "\n",
    "1. 수동으로 채우지 않고 0으로 구성된 300 차원 NumPy 배열을 만듭니다.\n",
    "\n",
    "2. (3,100) 으로 재구성"
   ]
  },
  {
   "cell_type": "code",
   "execution_count": 3,
   "id": "b4618ca1",
   "metadata": {},
   "outputs": [
    {
     "name": "stdout",
     "output_type": "stream",
     "text": [
      "[0 0 0 0 0 0 0 0 0 0 0 0 0 0 0 0 0 0 0 0 0 0 0 0 0 0 0 0 0 0 0 0 0 0 0 0 0\n",
      " 0 0 0 0 0 0 0 0 0 0 0 0 0 0 0 0 0 0 0 0 0 0 0 0 0 0 0 0 0 0 0 0 0 0 0 0 0\n",
      " 0 0 0 0 0 0 0 0 0 0 0 0 0 0 0 0 0 0 0 0 0 0 0 0 0 0 0 0 0 0 0 0 0 0 0 0 0\n",
      " 0 0 0 0 0 0 0 0 0 0 0 0 0 0 0 0 0 0 0 0 0 0 0 0 0 0 0 0 0 0 0 0 0 0 0 0 0\n",
      " 0 0 0 0 0 0 0 0 0 0 0 0 0 0 0 0 0 0 0 0 0 0 0 0 0 0 0 0 0 0 0 0 0 0 0 0 0\n",
      " 0 0 0 0 0 0 0 0 0 0 0 0 0 0 0 0 0 0 0 0 0 0 0 0 0 0 0 0 0 0 0 0 0 0 0 0 0\n",
      " 0 0 0 0 0 0 0 0 0 0 0 0 0 0 0 0 0 0 0 0 0 0 0 0 0 0 0 0 0 0 0 0 0 0 0 0 0\n",
      " 0 0 0 0 0 0 0 0 0 0 0 0 0 0 0 0 0 0 0 0 0 0 0 0 0 0 0 0 0 0 0 0 0 0 0 0 0\n",
      " 0 0 0 0]\n",
      "[[0 0 0 0 0 0 0 0 0 0 0 0 0 0 0 0 0 0 0 0 0 0 0 0 0 0 0 0 0 0 0 0 0 0 0 0\n",
      "  0 0 0 0 0 0 0 0 0 0 0 0 0 0 0 0 0 0 0 0 0 0 0 0 0 0 0 0 0 0 0 0 0 0 0 0\n",
      "  0 0 0 0 0 0 0 0 0 0 0 0 0 0 0 0 0 0 0 0 0 0 0 0 0 0 0 0]\n",
      " [0 0 0 0 0 0 0 0 0 0 0 0 0 0 0 0 0 0 0 0 0 0 0 0 0 0 0 0 0 0 0 0 0 0 0 0\n",
      "  0 0 0 0 0 0 0 0 0 0 0 0 0 0 0 0 0 0 0 0 0 0 0 0 0 0 0 0 0 0 0 0 0 0 0 0\n",
      "  0 0 0 0 0 0 0 0 0 0 0 0 0 0 0 0 0 0 0 0 0 0 0 0 0 0 0 0]\n",
      " [0 0 0 0 0 0 0 0 0 0 0 0 0 0 0 0 0 0 0 0 0 0 0 0 0 0 0 0 0 0 0 0 0 0 0 0\n",
      "  0 0 0 0 0 0 0 0 0 0 0 0 0 0 0 0 0 0 0 0 0 0 0 0 0 0 0 0 0 0 0 0 0 0 0 0\n",
      "  0 0 0 0 0 0 0 0 0 0 0 0 0 0 0 0 0 0 0 0 0 0 0 0 0 0 0 0]]\n"
     ]
    }
   ],
   "source": [
    "np_array = np.zeros(300, dtype=int) # 배열 안에 300개의 0을 만들기\n",
    "print(np_array) # 확인하기\n",
    "\n",
    "np_array=np_array.reshape((3, 100)) # reshape(재구성)하기 1차원 -> 2차원 (100개씩 3개)\n",
    "print(np_array) # 확인하기\n"
   ]
  },
  {
   "cell_type": "markdown",
   "id": "af91509e",
   "metadata": {},
   "source": [
    "<h2><b>연습3:</b> 슬라이싱</h2>"
   ]
  },
  {
   "cell_type": "markdown",
   "id": "2388d485",
   "metadata": {},
   "source": [
    "이 연습의 목표는 NumPy 인덱싱/슬라이싱을 배우는 것입니다. for 루프 없이 효율적으로 NumPy 배열의 값에 접근할 수 있습니다."
   ]
  },
  {
   "cell_type": "markdown",
   "id": "0d543d36",
   "metadata": {},
   "source": [
    "<h4>3-1</h4>\n",
    "<ol>\n",
    "    <li>1부터 100까지의 모든 정수를 정렬하여 포함하는 1차원 NumPy 배열을 만듭니다.</li>\n",
    "    <li>for 루프를 사용하지 않고 Q1에서 만든 배열을 사용하여 모든 홀수를 포함하는 배열을 만듭니다.</li>\n",
    "</ol>"
   ]
  },
  {
   "cell_type": "code",
   "execution_count": 4,
   "id": "0d2ae6d5",
   "metadata": {},
   "outputs": [
    {
     "name": "stdout",
     "output_type": "stream",
     "text": [
      "[  1   2   3   4   5   6   7   8   9  10  11  12  13  14  15  16  17  18\n",
      "  19  20  21  22  23  24  25  26  27  28  29  30  31  32  33  34  35  36\n",
      "  37  38  39  40  41  42  43  44  45  46  47  48  49  50  51  52  53  54\n",
      "  55  56  57  58  59  60  61  62  63  64  65  66  67  68  69  70  71  72\n",
      "  73  74  75  76  77  78  79  80  81  82  83  84  85  86  87  88  89  90\n",
      "  91  92  93  94  95  96  97  98  99 100]\n"
     ]
    }
   ],
   "source": [
    "arr = np.arange(1,100+1) # 1부터 100까지의 모든 정수를 가지는 NumPy 배열 만들기\n",
    "print(arr) # 확인하기"
   ]
  },
  {
   "cell_type": "code",
   "execution_count": 5,
   "id": "08f262b5",
   "metadata": {},
   "outputs": [
    {
     "name": "stdout",
     "output_type": "stream",
     "text": [
      "[ 1  3  5  7  9 11 13 15 17 19 21 23 25 27 29 31 33 35 37 39 41 43 45 47\n",
      " 49 51 53 55 57 59 61 63 65 67 69 71 73 75 77 79 81 83 85 87 89 91 93 95\n",
      " 97 99]\n"
     ]
    }
   ],
   "source": [
    "arr = arr[0::2] # 슬라이싱을 사용하여 모든 홀수를 포함하는 배열을 만들기\n",
    "print(arr) # 확인하기"
   ]
  },
  {
   "cell_type": "markdown",
   "id": "399e0177",
   "metadata": {},
   "source": [
    "<h4>3-2</h4>\n",
    "<ol>\n",
    "    <li>for 루프를 사용하지 않고 Q1에서 만든 배열을 사용하여, 모든 짝수 정수를 반전하여 포함하는 배열을 만듭니다.</li>\n",
    "</ol>"
   ]
  },
  {
   "cell_type": "code",
   "execution_count": 6,
   "id": "66731ff6",
   "metadata": {},
   "outputs": [
    {
     "name": "stdout",
     "output_type": "stream",
     "text": [
      "[100  98  96  94  92  90  88  86  84  82  80  78  76  74  72  70  68  66\n",
      "  64  62  60  58  56  54  52  50  48  46  44  42  40  38  36  34  32  30\n",
      "  28  26  24  22  20  18  16  14  12  10   8   6   4   2]\n"
     ]
    }
   ],
   "source": [
    "arr = np.arange(1,100+1) # 100개 생성\n",
    "arr = np.flip(arr[1::2]) # flip을 사용하여 반전 시키기, 슬라이싱으로 짝수 정수만 골라내기\n",
    "print(arr) # 확인하기"
   ]
  },
  {
   "cell_type": "markdown",
   "id": "69856878",
   "metadata": {},
   "source": [
    "<h4>3-3</h4>\n",
    "<ol>\n",
    "    <li>배열을 사용하여 목록의 모든 3개 요소(두 번째부터 시작) 값을 0으로 설정합니다.</li>\n",
    "</ol>"
   ]
  },
  {
   "cell_type": "code",
   "execution_count": 7,
   "id": "3450cc57",
   "metadata": {},
   "outputs": [
    {
     "name": "stdout",
     "output_type": "stream",
     "text": [
      "[  1   0   3   4   0   6   7   0   9  10   0  12  13   0  15  16   0  18\n",
      "  19   0  21  22   0  24  25   0  27  28   0  30  31   0  33  34   0  36\n",
      "  37   0  39  40   0  42  43   0  45  46   0  48  49   0  51  52   0  54\n",
      "  55   0  57  58   0  60  61   0  63  64   0  66  67   0  69  70   0  72\n",
      "  73   0  75  76   0  78  79   0  81  82   0  84  85   0  87  88   0  90\n",
      "  91   0  93  94   0  96  97   0  99 100]\n"
     ]
    }
   ],
   "source": [
    "arr = np.arange(1,100+1) # 100개 생성하기\n",
    "for i in range(1, len(arr), 3): #for문으로 3칸 마다 0으로 만들기\n",
    "    arr[i] = 0\n",
    "print(arr) # 확인하기\n",
    "#3-4"
   ]
  },
  {
   "cell_type": "markdown",
   "id": "4fcf369c",
   "metadata": {},
   "source": [
    "<h2><b>연습4:</b> 무작위</h2>"
   ]
  },
  {
   "cell_type": "markdown",
   "id": "bc9b27d6",
   "metadata": {},
   "source": [
    "<p>이 연습의 목표는 무작위 데이터를 생성하는 방법을 배우는 것입니다. 데이터 과학에서는 여러 가지 이유로 무작위 데이터를 생성하는 것이 매우 유용합니다. 실제 데이터 부족, 무작위 벤치마크 생성, 다양한 데이터 세트 사용 등이 있습니다. NumPy는 무작위 데이터를 생성하는 다양한 옵션을 제공합니다. 통계에서는 데이터의 분포에 대한 가정이 사용됩니다. 무작위로 생성될 수 있는 모든 데이터 분포는 설명서에 설명되어 있습니다. 이 연습에서는 두 가지 분포에 중점을 둡니다.</p>"
   ]
  },
  {
   "cell_type": "markdown",
   "id": "37a79796",
   "metadata": {},
   "source": [
    "- 균등 분포: 예를 들어, 1에서 100까지의 난수를 생성하고 모든 숫자가 같을 확률이 필요하다면 균등 분포가 필요합니다. NumPy는 균등 분포를 생성하기 위해 <code>randint</code>와 를 제공합니다.<code>uniform</code>"
   ]
  },
  {
   "cell_type": "markdown",
   "id": "66d51281",
   "metadata": {},
   "source": [
    "- 정규분포: 정규분포는 통계학에서 가장 중요한 확률 분포로, 다양한 자연 현상에 적합합니다. 예를 들어, 14세 소녀의 키를 나타내는 데이터 샘플을 생성해야 하는 경우 정규분포를 사용하여 수행할 수 있습니다. 이 경우 평균(1m51)과 표준편차(0.0741m)라는 두 가지 매개변수가 필요합니다. NumPy는 <code>randn</code>정규분포를 생성하는 데 필요한 여러 가지 기능을 제공합니다."
   ]
  },
  {
   "cell_type": "markdown",
   "id": "9e614683",
   "metadata": {},
   "source": [
    "<h3><b>조건</b></h3>\n",
    "<ol>\n",
    "    <li><p>시드를 888로 설정하세요</p></li>\n",
    "    <li><p>정규 분포를 따르는 크기 100의 1차원 배열을 생성합니다</p></li>\n",
    "    <li><p>1~10까지의 난수 정수를 포함하는 크기가 8,8인 2차원 배열을 생성합니다(각 정수에 대해 동일한 확률)</p></li>\n",
    "    <li><p>1~17까지의 난수 정수를 포함하는 크기가 4,2,5인 3차원 배열을 생성합니다(각 정수에 대해 동일한 확률)</p></li>\n",
    "</ol>"
   ]
  },
  {
   "cell_type": "code",
   "execution_count": 8,
   "id": "45c502df",
   "metadata": {},
   "outputs": [
    {
     "name": "stdout",
     "output_type": "stream",
     "text": [
      "[-1.76200874e-01  1.88876361e-01  8.26747180e-01 -3.24473146e-02\n",
      " -6.52499418e-01 -1.05339382e-01  2.17776116e-01  5.87281504e-01\n",
      "  1.00237892e-01 -1.09994668e+00 -2.55305389e-01  4.05304381e-01\n",
      "  1.62663953e-01  1.04163462e+00  2.24324184e-01  6.99304449e-01\n",
      " -8.65543512e-01 -1.39346831e+00 -2.36687913e-01 -7.57041911e-01\n",
      "  1.31429195e+00 -9.77385899e-01 -3.59032576e-01  1.16141585e-01\n",
      " -3.51081138e-01 -4.39838344e-01 -4.90995473e-02 -4.31596770e-01\n",
      " -1.08875099e+00 -2.31088106e+00 -1.86236420e+00  2.34708674e-01\n",
      " -8.95585921e-01 -5.40834525e-01 -4.02399061e-01  2.31458561e-02\n",
      "  1.77688506e-01 -5.73309272e-01 -3.38392138e-01 -2.64422114e-03\n",
      "  1.44930339e+00  1.36605641e+00  2.69187461e+00  6.76065035e-01\n",
      " -1.06098418e+00  1.31845313e-01  1.71934297e-01  8.88062794e-02\n",
      "  1.03963016e+00 -1.37846942e-01 -3.69232844e-01  3.19587912e+00\n",
      "  1.11457451e+00 -2.59516296e-01  1.48370897e+00 -1.57049065e+00\n",
      "  9.78899330e-01  1.76070681e+00  3.53121953e-01 -3.08510762e-01\n",
      " -1.40481067e+00 -6.54547811e-01 -1.37791290e+00 -2.42605914e-01\n",
      " -1.17542916e+00  6.96400848e-01  2.84105779e-01 -1.01948195e+00\n",
      "  1.09675079e+00  2.41646711e-01 -3.67039678e-01 -2.19894776e+00\n",
      "  1.41872937e+00  2.20794136e-01  7.92524915e-01 -2.23775806e-01\n",
      " -6.96694068e-01 -9.17717925e-01 -1.47199487e+00  1.87770559e+00\n",
      "  1.51033108e+00  1.18732817e-01  6.50728248e-01 -7.07655562e-01\n",
      "  1.69862924e+00  1.34663117e+00  5.26657670e-01 -6.13561456e-01\n",
      " -1.79179012e-01 -1.28634991e+00  1.41675325e+00 -1.81351151e-01\n",
      " -1.02037575e-01 -6.03250569e-01  1.20489600e+00  9.62265746e-01\n",
      "  8.61170433e-01  1.96244237e+00 -1.15548773e+00  3.45259423e-01]\n"
     ]
    }
   ],
   "source": [
    "np.random.seed(888) #시드 888로 지정 해주기\n",
    "\n",
    "random_arr = np.random.randn(100) # randn로 정규 분표 생성\n",
    "print(random_arr) #확인하기"
   ]
  },
  {
   "cell_type": "code",
   "execution_count": 9,
   "id": "ed16b72f",
   "metadata": {},
   "outputs": [
    {
     "name": "stdout",
     "output_type": "stream",
     "text": [
      "[[6 3 7 9 1 0 0 9]\n",
      " [3 0 6 3 2 4 1 7]\n",
      " [2 8 6 3 8 5 9 4]\n",
      " [6 9 2 9 1 0 2 6]\n",
      " [2 1 2 1 9 8 4 3]\n",
      " [3 0 8 6 0 3 2 4]\n",
      " [2 1 9 7 5 2 8 3]\n",
      " [3 3 8 1 7 4 8 4]]\n"
     ]
    }
   ],
   "source": [
    "np.random.seed(888) #시드 888로 지정 해주기\n",
    "\n",
    "random_arr = np.random.randint(0, 10, size = 64) #0~10까지의 난수 정수를 64(8,8) 형태로 생성\n",
    "random_arr = random_arr.reshape(8,8) # reshape를 사용해서 (8,8)형태로 만들어 주기\n",
    "print(random_arr) # 확인하기"
   ]
  },
  {
   "cell_type": "code",
   "execution_count": 10,
   "id": "a70c5654",
   "metadata": {},
   "outputs": [
    {
     "name": "stdout",
     "output_type": "stream",
     "text": [
      "[[[15 11 14 16  7]\n",
      "  [ 4  8 15 10 13]]\n",
      "\n",
      " [[14  2  1 14 13]\n",
      "  [ 1 10  4  1  7]]\n",
      "\n",
      " [[11  4 11  3 15]\n",
      "  [15 12  5  2  8]]\n",
      "\n",
      " [[ 3  9  7  4 13]\n",
      "  [ 9  6 10 15 11]]]\n"
     ]
    }
   ],
   "source": [
    "np.random.seed(888) #시드 888로 지정 해주기\n",
    "\n",
    "random_arr = np.random.randint(1, 17, size = 40) #1~17까지의 난수 정수를 40(4,2,5) 형태로 생성\n",
    "random_arr = random_arr.reshape(4,2,5) # reshape를 사용해서 (4, 2, 5)형태로 만들어 주기\n",
    "print(random_arr) # 확인하기"
   ]
  },
  {
   "cell_type": "markdown",
   "id": "d8bd3297",
   "metadata": {},
   "source": [
    "<h2><b>연습 5:</b> 배열 분할, 연결, 모양 변경하기</h2>"
   ]
  },
  {
   "cell_type": "markdown",
   "id": "df9f2c2c",
   "metadata": {},
   "source": [
    "- 이 연습의 목표는 배열을 연결하고 재구성하는 방법을 배우는 것입니다."
   ]
  },
  {
   "cell_type": "markdown",
   "id": "21dd0e3f",
   "metadata": {},
   "source": [
    "1. 1~50까지의 정수를 포함하는 배열을 생성합니다.<code>array([1,...,50])</code>"
   ]
  },
  {
   "cell_type": "markdown",
   "id": "a873c884",
   "metadata": {},
   "source": [
    "2. 51에서 100까지의 정수를 포함하는 배열을 생성합니다.<code>array([51,...,100])</code>"
   ]
  },
  {
   "cell_type": "markdown",
   "id": "d83259c3",
   "metadata": {},
   "source": [
    "3. 를 사용하여 <code>np.concatenate</code>두 배열을 다음과 같이 연결합니다.array([1,...,100])"
   ]
  },
  {
   "cell_type": "markdown",
   "id": "8ebc4dec",
   "metadata": {},
   "source": [
    "4. 이전 배열을 다음과 같이 재구성합니다. (사이트 참조)"
   ]
  },
  {
   "cell_type": "code",
   "execution_count": 11,
   "id": "90e195cc",
   "metadata": {},
   "outputs": [
    {
     "name": "stdout",
     "output_type": "stream",
     "text": [
      "[ 1  2  3  4  5  6  7  8  9 10 11 12 13 14 15 16 17 18 19 20 21 22 23 24\n",
      " 25 26 27 28 29 30 31 32 33 34 35 36 37 38 39 40 41 42 43 44 45 46 47 48\n",
      " 49 50]\n"
     ]
    }
   ],
   "source": [
    "dom_arr = np.arange(1,51) # 1~50가지의 정수 배열 생성\n",
    "print(dom_arr)"
   ]
  },
  {
   "cell_type": "code",
   "execution_count": 12,
   "id": "bf411919",
   "metadata": {},
   "outputs": [
    {
     "name": "stdout",
     "output_type": "stream",
     "text": [
      "[ 51  52  53  54  55  56  57  58  59  60  61  62  63  64  65  66  67  68\n",
      "  69  70  71  72  73  74  75  76  77  78  79  80  81  82  83  84  85  86\n",
      "  87  88  89  90  91  92  93  94  95  96  97  98  99 100]\n"
     ]
    }
   ],
   "source": [
    "dom_arr2 = np.arange(51, 101) # 51~100까지의 정수 배열 생성\n",
    "print(dom_arr2)"
   ]
  },
  {
   "cell_type": "code",
   "execution_count": 13,
   "id": "1e883348",
   "metadata": {},
   "outputs": [
    {
     "name": "stdout",
     "output_type": "stream",
     "text": [
      "[  1   2   3   4   5   6   7   8   9  10  11  12  13  14  15  16  17  18\n",
      "  19  20  21  22  23  24  25  26  27  28  29  30  31  32  33  34  35  36\n",
      "  37  38  39  40  41  42  43  44  45  46  47  48  49  50  51  52  53  54\n",
      "  55  56  57  58  59  60  61  62  63  64  65  66  67  68  69  70  71  72\n",
      "  73  74  75  76  77  78  79  80  81  82  83  84  85  86  87  88  89  90\n",
      "  91  92  93  94  95  96  97  98  99 100]\n"
     ]
    }
   ],
   "source": [
    "#np.concatenate([배열1, 배열2], axis=축번호) 형태\n",
    "dom_arr_total = np.concatenate((dom_arr, dom_arr2)) # 앞에 두개의 배열 하나로 묶기 1차원은 axis생략 가능\n",
    "print(dom_arr_total)"
   ]
  },
  {
   "cell_type": "code",
   "execution_count": 14,
   "id": "b4e2dc57",
   "metadata": {},
   "outputs": [
    {
     "name": "stdout",
     "output_type": "stream",
     "text": [
      "[[  1   2   3   4   5   6   7   8   9  10]\n",
      " [ 11  12  13  14  15  16  17  18  19  20]\n",
      " [ 21  22  23  24  25  26  27  28  29  30]\n",
      " [ 31  32  33  34  35  36  37  38  39  40]\n",
      " [ 41  42  43  44  45  46  47  48  49  50]\n",
      " [ 51  52  53  54  55  56  57  58  59  60]\n",
      " [ 61  62  63  64  65  66  67  68  69  70]\n",
      " [ 71  72  73  74  75  76  77  78  79  80]\n",
      " [ 81  82  83  84  85  86  87  88  89  90]\n",
      " [ 91  92  93  94  95  96  97  98  99 100]]\n"
     ]
    }
   ],
   "source": [
    "# 재구성 하기\n",
    "dom_arr_total = dom_arr_total.reshape(10,10)\n",
    "print(dom_arr_total)"
   ]
  },
  {
   "cell_type": "markdown",
   "id": "4132e219",
   "metadata": {},
   "source": [
    "<h2><b>연습 6:</b> 브로드캐스팅 및 슬라이싱</h2>"
   ]
  },
  {
   "cell_type": "markdown",
   "id": "c9f62b0b",
   "metadata": {},
   "source": [
    "- 이 연습의 목표는 n차원 배열의 값에 효율적으로 접근하는 방법을 배우는 것입니다."
   ]
  },
  {
   "cell_type": "markdown",
   "id": "1e327ed5",
   "metadata": {},
   "source": [
    "- <span style=\"color:red\"><b>이 연습에서는 for 루프를 사용할 수 없습니다</b></span>"
   ]
  },
  {
   "cell_type": "markdown",
   "id": "d6b7dd2b",
   "metadata": {},
   "source": [
    "1. 모든 요소가 1로 초기화되고 유형이 지정된 9x9 크기의 2차원 배열을 생성합니다 <code>int8.</code>"
   ]
  },
  {
   "cell_type": "markdown",
   "id": "054f54ca",
   "metadata": {},
   "source": [
    "2. 슬라이싱을 사용하여 다음 배열을 만듭니다.(사이트 참고)"
   ]
  },
  {
   "cell_type": "markdown",
   "id": "3aa259f3",
   "metadata": {},
   "source": [
    "3. 브로드캐스팅을 사용하여 다음 두 배열을 기반으로 출력 행렬을 생성합니다."
   ]
  },
  {
   "cell_type": "code",
   "execution_count": 15,
   "id": "2ad4c72c",
   "metadata": {},
   "outputs": [
    {
     "name": "stdout",
     "output_type": "stream",
     "text": [
      "[[1 1 1 1 1 1 1 1 1]\n",
      " [1 1 1 1 1 1 1 1 1]\n",
      " [1 1 1 1 1 1 1 1 1]\n",
      " [1 1 1 1 1 1 1 1 1]\n",
      " [1 1 1 1 1 1 1 1 1]\n",
      " [1 1 1 1 1 1 1 1 1]\n",
      " [1 1 1 1 1 1 1 1 1]\n",
      " [1 1 1 1 1 1 1 1 1]\n",
      " [1 1 1 1 1 1 1 1 1]]\n"
     ]
    }
   ],
   "source": [
    "array = np.ones((9,9), dtype=np.int8) # 9,9의 이차원 배열 생성 np.int8 타입으로 생성\n",
    "print(array) # 확인하기"
   ]
  },
  {
   "cell_type": "code",
   "execution_count": 16,
   "id": "d63f66c6",
   "metadata": {},
   "outputs": [
    {
     "name": "stdout",
     "output_type": "stream",
     "text": [
      "[[1 1 1 1 1 1 1 1 1]\n",
      " [1 0 0 0 0 0 0 0 1]\n",
      " [1 0 1 1 1 1 1 0 1]\n",
      " [1 0 1 0 0 0 1 0 1]\n",
      " [1 0 1 0 1 0 1 0 1]\n",
      " [1 0 1 0 0 0 1 0 1]\n",
      " [1 0 1 1 1 1 1 0 1]\n",
      " [1 0 0 0 0 0 0 0 1]\n",
      " [1 1 1 1 1 1 1 1 1]]\n"
     ]
    }
   ],
   "source": [
    "array = np.ones((9,9), dtype=np.int8) # 9,9의 이차원 배열 생성 np.int8 타입으로 생성\n",
    "array[1:-1] = 0 #가로\n",
    "array[1:-1, [0, -1]] = 1 #세로\n",
    "array[2:-2:4,2:-2] = 1 #가로\n",
    "array[2:-2, [2,-3]] = 1 #세로\n",
    "array[4][4] = 1 # 중간\n",
    "print(array)"
   ]
  },
  {
   "cell_type": "markdown",
   "id": "c829b481",
   "metadata": {},
   "source": [
    "<h2><b>연습 7:</b> NaN</h2>"
   ]
  },
  {
   "cell_type": "markdown",
   "id": "1ffc696e",
   "metadata": {},
   "source": [
    "- 이 연습의 목표는 NumPy에서 누락된 데이터를 처리하고 배열을 효과적으로 조작하는 것입니다."
   ]
  },
  {
   "cell_type": "markdown",
   "id": "cb2afdaa",
   "metadata": {},
   "source": [
    "- 지난 두 시험의 성적이 담긴 2차원 배열을 생각해 보겠습니다. 일부 학생이 첫 번째 시험에 결석했기 때문에 성적을 <code>NaN</code>으로 대체합니다."
   ]
  },
  {
   "cell_type": "markdown",
   "id": "de722c6a",
   "metadata": {},
   "source": [
    "- 이 시나리오를 시뮬레이션하기 위해 NumPy를 사용하여 모의 데이터셋을 생성하겠습니다. 이 데이터셋을 생성하는 코드 조각은 다음과 같습니다."
   ]
  },
  {
   "cell_type": "code",
   "execution_count": 17,
   "id": "fad6cd26",
   "metadata": {},
   "outputs": [
    {
     "name": "stdout",
     "output_type": "stream",
     "text": [
      "[[ 7.  1.]\n",
      " [nan  2.]\n",
      " [nan  8.]\n",
      " [ 9.  3.]\n",
      " [ 8.  9.]\n",
      " [nan  2.]\n",
      " [ 8.  2.]\n",
      " [nan  6.]\n",
      " [ 9.  2.]\n",
      " [ 8.  5.]]\n"
     ]
    }
   ],
   "source": [
    "import numpy as np\n",
    "\n",
    "generator = np.random.default_rng(123) # 123시드의 난수 생성 default_rng를 이용 (np.random의 업그레이드 버전)\n",
    "grades = np.round(generator.uniform(low = 0.0, high = 10.0, size = (10, 2))) #np.round: 소수 첫째자리까지 반올림, uniform() 균등분포 난수 생성, 0~10의 10행2열 배열 생성\n",
    "grades[[1,2,5,7], [0,0,0,0]] = np.nan #1,2,5,7행의 0번째 열을 nan으로 만듬\n",
    "print(grades)"
   ]
  },
  {
   "cell_type": "markdown",
   "id": "029c5fa3",
   "metadata": {},
   "source": [
    "- <code>np.where</code>를 사용하여 첫 번째 시험 성적이 있으면 해당 성적을 가져오는 세 번째 열을 만들고, 그렇지 않으면 두 번째 시험 성적을 사용합니다. 이 열을 배열의 세 번째 열로 추가합니다."
   ]
  },
  {
   "cell_type": "code",
   "execution_count": 18,
   "id": "62056b1f",
   "metadata": {},
   "outputs": [
    {
     "name": "stdout",
     "output_type": "stream",
     "text": [
      "[[ 7.  1.  7.]\n",
      " [nan  2.  2.]\n",
      " [nan  8.  8.]\n",
      " [ 9.  3.  9.]\n",
      " [ 8.  9.  8.]\n",
      " [nan  2.  2.]\n",
      " [ 8.  2.  8.]\n",
      " [nan  6.  6.]\n",
      " [ 9.  2.  9.]\n",
      " [ 8.  5.  8.]]\n"
     ]
    }
   ],
   "source": [
    "# 새 열 만들기: 조건에 따라 선택\n",
    "grades2 = np.where(          # np.where(조건,x,y) 조건이 맞다면 x, 아니라면 y\n",
    "    ~np.isnan(grades[:, 0]),   # 첫번째 열이 NaN이 아니라면 -> 숫자라면\n",
    "    grades[:, 0],              # 첫번째 열을 사용\n",
    "    grades[:, 1]               # 두번째 열을 사용\n",
    ").reshape(-1, 1)               # 2차원 배열로 만듬\n",
    "\n",
    "grades_total1 = np.concatenate([grades, grades2], axis=1) # 열 붙이기\n",
    "print(grades_total1)"
   ]
  },
  {
   "cell_type": "markdown",
   "id": "0302a4ca",
   "metadata": {},
   "source": [
    "<h2><b>연습 8:</b> wine</h2>"
   ]
  },
  {
   "cell_type": "markdown",
   "id": "6314c2bc",
   "metadata": {},
   "source": [
    "- 이 연습의 목표는 NumPy를 사용하여 실제 데이터에 대한 기본적인 데이터 분석을 수행하는 것입니다."
   ]
  },
  {
   "cell_type": "markdown",
   "id": "069da7fd",
   "metadata": {},
   "source": [
    "1. 구분 기호를 ';'로 지정하여 를 사용하여 데이터를 로드하고 <code>genfromtxt</code>, 데이터 유형을 줄여 numpy 배열 크기를 최적화합니다. 를 사용하여 <code>np.float32</code>결과 numpy 배열의 크기가 76,800바이트 인지 확인합니다 ."
   ]
  },
  {
   "cell_type": "markdown",
   "id": "f465ac4a",
   "metadata": {},
   "source": [
    "2. 2번째, 7번째, 12번째 행을 2차원 배열로 표시합니다. <code>np.nan</code>값이 있으면 제외합니다."
   ]
  },
  {
   "cell_type": "markdown",
   "id": "3c77ebb4",
   "metadata": {},
   "source": [
    "3. 데이터 세트에 알코올 도수가 20%를 넘는 와인이 있는지 확인합니다. True 또는 False를 반환합니다."
   ]
  },
  {
   "cell_type": "markdown",
   "id": "4cdd379c",
   "metadata": {},
   "source": [
    "4. 데이터세트에 있는 모든 와인의 평균 알코올 도수를 계산합니다. <code>np.nan</code>값이 있으면 제외합니다."
   ]
  },
  {
   "cell_type": "markdown",
   "id": "a0b5c36c",
   "metadata": {},
   "source": [
    "5. 다양한 통계적 측정값(pH 값에 대한 최소값, 최대값, 25백분위수, 50백분위수, 75백분위수 및 평균)을 계산합니다."
   ]
  },
  {
   "cell_type": "markdown",
   "id": "b8fac523",
   "metadata": {},
   "source": [
    "**_참고: <code>percentile</code>또는 를 사용하면 <code>median</code>열의 중복 값에 따라 다른 결과가 나올 수 있습니다. 제 결과가 없으면 를 사용하세요 <code>percentile</code>._**"
   ]
  },
  {
   "cell_type": "markdown",
   "id": "c1320302",
   "metadata": {},
   "source": [
    "6. 황산염 함량이 20% 가장 낮은 와인의 평균 품질 점수를 찾아보세요."
   ]
  },
  {
   "cell_type": "markdown",
   "id": "f3d50198",
   "metadata": {},
   "source": [
    "7. 가장 좋은 품질의 와인에 대한 모든 변수의 평균을 계산하세요. 또한, 가장 나쁜 품질의 와인에 대해서도 같은 작업을 수행하세요."
   ]
  },
  {
   "cell_type": "code",
   "execution_count": 89,
   "id": "52cc9cb7",
   "metadata": {},
   "outputs": [],
   "source": [
    "# genformtxt로 wine.csv파일 가지고 오기, ;로 데이터 단위 구분, np.float32로 불러오기\n",
    "data = np.genfromtxt('wine.csv' , skip_header = 0 , delimiter = ';' , dtype = np.float32)"
   ]
  },
  {
   "cell_type": "code",
   "execution_count": 20,
   "id": "a6e1ae4d",
   "metadata": {},
   "outputs": [
    {
     "name": "stdout",
     "output_type": "stream",
     "text": [
      "[[   nan    nan    nan ...    nan    nan    nan]\n",
      " [ 7.4    0.7    0.    ...  0.56   9.4    5.   ]\n",
      " [ 7.8    0.88   0.    ...  0.68   9.8    5.   ]\n",
      " ...\n",
      " [ 6.3    0.51   0.13  ...  0.75  11.     6.   ]\n",
      " [ 5.9    0.645  0.12  ...  0.71  10.2    5.   ]\n",
      " [ 6.     0.31   0.47  ...  0.66  11.     6.   ]]\n",
      "76800 byte\n"
     ]
    }
   ],
   "source": [
    "print(data)\n",
    "print(f\"{data.nbytes} byte\") # 배열의 크기 확인하기 76,800바이트 이어야 함"
   ]
  },
  {
   "cell_type": "code",
   "execution_count": 21,
   "id": "8a1f586c",
   "metadata": {},
   "outputs": [
    {
     "name": "stdout",
     "output_type": "stream",
     "text": [
      "[[  7.8    0.88   0.     2.6    0.1   25.    67.     1.     3.2    0.68\n",
      "    9.8    5.  ]\n",
      " [  7.9    0.6    0.06   1.6    0.07  15.    59.     1.     3.3    0.46\n",
      "    9.4    5.  ]\n",
      " [  7.5    0.5    0.36   6.1    0.07  17.   102.     1.     3.35   0.8\n",
      "   10.5    5.  ]]\n"
     ]
    }
   ],
   "source": [
    "np.set_printoptions(suppress=True, precision=2)  # 지수표기 끄기, 소숫점 2번째 자리까지 표기\n",
    "rows = data[[2,7,12]]  # 2, 7, 12번째 행을 2차원으로 유지하며 빼내기\n",
    "not_nan = np.isnan(rows).any(axis=1)  # NaN이 있는 행 찾기 true, false 반환 nan->true\n",
    "clean_rows = rows[~not_nan] # NaN이 없는 행만 선택  false만 선택\n",
    "\n",
    "print(clean_rows)"
   ]
  },
  {
   "cell_type": "code",
   "execution_count": 22,
   "id": "c42141da",
   "metadata": {},
   "outputs": [
    {
     "name": "stdout",
     "output_type": "stream",
     "text": [
      "False\n"
     ]
    }
   ],
   "source": [
    "#도수는 11번째 요소\n",
    "#도수가 20%를 넘기면 True 그렇지 않으면 False\n",
    "\n",
    "wine_alchol = clean_rows[:,[-2]] # 11번째 도수 부분 가지고 오기\n",
    "alchol = np.any(wine_alchol > 20) # 20을 넘기면 true 그렇지 않으면 false\n",
    "\n",
    "print(alchol) #확인하기"
   ]
  },
  {
   "cell_type": "code",
   "execution_count": 23,
   "id": "6e4fde08",
   "metadata": {},
   "outputs": [
    {
     "name": "stdout",
     "output_type": "stream",
     "text": [
      "10.422984\n"
     ]
    }
   ],
   "source": [
    "data_all_alchol = data[:,[-2]] #알코올 부분 모두 가지고 오기\n",
    "data_all_alchol_nan = np.isnan(data_all_alchol).any(axis=1) # NaN 찾기\n",
    "data_all_alchol_clean = data_all_alchol[~data_all_alchol_nan] # NaN없는 것만 골라\n",
    "\n",
    "data_all_alchol_mean = np.mean(data_all_alchol_clean) # mean을 사용하여 평균 구하기\n",
    "\n",
    "print(data_all_alchol_mean)"
   ]
  },
  {
   "cell_type": "code",
   "execution_count": 24,
   "id": "2951849f",
   "metadata": {},
   "outputs": [],
   "source": [
    "#자동으로 데이터 가공해 주는 함수 만들기\n",
    "def data_filter_nan(data):\n",
    "    nan_find = np.isnan(data).any(axis=1)\n",
    "    nan_clean = data[~nan_find]\n",
    "    return nan_clean"
   ]
  },
  {
   "cell_type": "code",
   "execution_count": 25,
   "id": "6e8272b5",
   "metadata": {},
   "outputs": [
    {
     "name": "stdout",
     "output_type": "stream",
     "text": [
      "[[3.51]\n",
      " [3.2 ]\n",
      " [3.26]\n",
      " ...\n",
      " [3.42]\n",
      " [3.57]\n",
      " [3.39]]\n"
     ]
    }
   ],
   "source": [
    "# pH 값에 대한 최소값, 최대값, 25백분위수, 50백분위수, 75백분위수 및 평균 구하기\n",
    "# pH는 -4번째 열\n",
    "pH = data_filter_nan(data[:,[-4]]) # 함수 사용해서 pH가지고 오기\n",
    "print(pH)"
   ]
  },
  {
   "cell_type": "code",
   "execution_count": 26,
   "id": "55d6bf0d",
   "metadata": {},
   "outputs": [
    {
     "name": "stdout",
     "output_type": "stream",
     "text": [
      "2.74\n"
     ]
    }
   ],
   "source": [
    "#최솟값 min사용\n",
    "pH_min = np.min(pH)\n",
    "print(pH_min)"
   ]
  },
  {
   "cell_type": "code",
   "execution_count": 32,
   "id": "0e5bd51d",
   "metadata": {},
   "outputs": [
    {
     "name": "stdout",
     "output_type": "stream",
     "text": [
      "4.01\n"
     ]
    }
   ],
   "source": [
    "#최댓값 max사용\n",
    "pH_max = np.max(pH)\n",
    "print(pH_max)"
   ]
  },
  {
   "cell_type": "markdown",
   "id": "843ab066",
   "metadata": {},
   "source": [
    "### 백분위수란?\n",
    "- 데이터를 100개의 구간으로 나눈 뒤, 그 안에서 특정 위치에 있는 값\n",
    "- numpy의 <code>percentile</code>함수를 사용해서 구해보기"
   ]
  },
  {
   "cell_type": "code",
   "execution_count": 35,
   "id": "ae226d7d",
   "metadata": {},
   "outputs": [
    {
     "name": "stdout",
     "output_type": "stream",
     "text": [
      "3.21\n"
     ]
    }
   ],
   "source": [
    "#25백분위수\n",
    "pH_25 = np.percentile(pH, 25)\n",
    "print(pH_25)"
   ]
  },
  {
   "cell_type": "code",
   "execution_count": 36,
   "id": "ed491c3e",
   "metadata": {},
   "outputs": [
    {
     "name": "stdout",
     "output_type": "stream",
     "text": [
      "3.31\n"
     ]
    }
   ],
   "source": [
    "#50백분위수\n",
    "pH_50 = np.percentile(pH, 50)\n",
    "print(pH_50)"
   ]
  },
  {
   "cell_type": "code",
   "execution_count": 37,
   "id": "96cd6189",
   "metadata": {},
   "outputs": [
    {
     "name": "stdout",
     "output_type": "stream",
     "text": [
      "3.4\n"
     ]
    }
   ],
   "source": [
    "#75백분위수\n",
    "pH_75 = np.percentile(pH, 75)\n",
    "print(pH_75)"
   ]
  },
  {
   "cell_type": "code",
   "execution_count": 33,
   "id": "0e832502",
   "metadata": {},
   "outputs": [
    {
     "name": "stdout",
     "output_type": "stream",
     "text": [
      "3.3111134\n"
     ]
    }
   ],
   "source": [
    "#평균구하기\n",
    "pH_mean = np.mean(pH)\n",
    "print(pH_mean)"
   ]
  },
  {
   "cell_type": "code",
   "execution_count": null,
   "id": "701d3cc0",
   "metadata": {},
   "outputs": [
    {
     "name": "stdout",
     "output_type": "stream",
     "text": [
      "[[0.56]\n",
      " [0.68]\n",
      " [0.65]\n",
      " ...\n",
      " [0.75]\n",
      " [0.71]\n",
      " [0.66]]\n",
      "[[5.]\n",
      " [5.]\n",
      " [5.]\n",
      " ...\n",
      " [6.]\n",
      " [5.]\n",
      " [6.]]\n",
      "[[0.56 5.  ]\n",
      " [0.68 5.  ]\n",
      " [0.65 5.  ]\n",
      " ...\n",
      " [0.75 6.  ]\n",
      " [0.71 5.  ]\n",
      " [0.66 6.  ]]\n"
     ]
    }
   ],
   "source": [
    "#황산염 함량이 20% 미만인 와인의 평균 품질 점수를 찾아보세요.\n",
    "#sulphates는 -3번째\n",
    "sulphates = data_filter_nan(data[:,[-3]]) #데이터 가공\n",
    "quality = data_filter_nan(data[:,[-1]])\n",
    "sul_qua = np.concatenate([sulphates, quality], axis=1) # 황산염과 퀄리티 합치기\n",
    "print(sulphates)\n",
    "print(quality)\n",
    "print(sul_qua) # 확인"
   ]
  },
  {
   "cell_type": "code",
   "execution_count": null,
   "id": "e4031a1c",
   "metadata": {},
   "outputs": [
    {
     "name": "stdout",
     "output_type": "stream",
     "text": [
      "[[0.56 5.  ]\n",
      " [0.68 5.  ]\n",
      " [0.65 5.  ]\n",
      " ...\n",
      " [0.54 5.  ]\n",
      " [0.58 5.  ]\n",
      " [0.71 5.  ]]\n"
     ]
    }
   ],
   "source": [
    "#20%미만의 값들을 찾기\n",
    "sulphates_20 = np.percentile(sul_qua[:,0], 20) # 하위 20%\n",
    "sulphates_20_low = sul_qua[sul_qua[:,0] <= sulphates_20] # 하위 20% 보다 작거나 같은 값 속출\n",
    "\n",
    "print(sulphates_20_low)"
   ]
  },
  {
   "cell_type": "code",
   "execution_count": 60,
   "id": "45b5aa3f",
   "metadata": {},
   "outputs": [
    {
     "name": "stdout",
     "output_type": "stream",
     "text": [
      "4.9018817\n"
     ]
    }
   ],
   "source": [
    "#와인 평균 품질 구하기\n",
    "quality_low_20 = sulphates_20_low[:,1]# 20%퀄리티\n",
    "quality_low_20_mean = np.mean(quality_low_20)# 평균\n",
    "print(quality_low_20_mean)"
   ]
  },
  {
   "cell_type": "code",
   "execution_count": 65,
   "id": "e721c665",
   "metadata": {},
   "outputs": [],
   "source": [
    "#가장 좋은 품질의 와인에 대한 모든 변수의 평균을 계산하세요. 또한, 가장 나쁜 품질의 와인에 대해서도 같은 작업을 수행하세요.\n",
    "#fixed acidity\tvolatile acidity\tcitric acid\tresidual sugar\tchlorides\tfree sulfur dioxide\ttotal sulfur dioxide\tdensity\tpH\tsulphates\talcohol\tquality의\n",
    "#각 항목들의 변수를 구하기"
   ]
  },
  {
   "cell_type": "code",
   "execution_count": 72,
   "id": "6df66bc5",
   "metadata": {},
   "outputs": [
    {
     "name": "stdout",
     "output_type": "stream",
     "text": [
      "[[ 7.9   0.35  0.46  3.6   0.08 15.   37.    1.    3.35  0.86 12.8   8.  ]\n",
      " [10.3   0.32  0.45  6.4   0.07  5.   13.    1.    3.23  0.82 12.6   8.  ]\n",
      " [ 5.6   0.85  0.05  1.4   0.05 12.   88.    0.99  3.56  0.82 12.9   8.  ]\n",
      " [12.6   0.31  0.72  2.2   0.07  6.   29.    1.    2.88  0.82  9.8   8.  ]\n",
      " [11.3   0.62  0.67  5.2   0.09  6.   19.    1.    3.22  0.69 13.4   8.  ]\n",
      " [ 9.4   0.3   0.56  2.8   0.08  6.   17.    1.    3.15  0.92 11.7   8.  ]\n",
      " [10.7   0.35  0.53  2.6   0.07  5.   16.    1.    3.15  0.65 11.    8.  ]\n",
      " [10.7   0.35  0.53  2.6   0.07  5.   16.    1.    3.15  0.65 11.    8.  ]\n",
      " [ 5.    0.42  0.24  2.    0.06 19.   50.    0.99  3.72  0.74 14.    8.  ]\n",
      " [ 7.8   0.57  0.09  2.3   0.06 34.   45.    0.99  3.46  0.74 12.7   8.  ]\n",
      " [ 9.1   0.4   0.5   1.8   0.07  7.   16.    0.99  3.21  0.69 12.5   8.  ]\n",
      " [10.    0.26  0.54  1.9   0.08 42.   74.    0.99  2.98  0.63 11.8   8.  ]\n",
      " [ 7.9   0.54  0.34  2.5   0.08  8.   17.    0.99  3.2   0.72 13.1   8.  ]\n",
      " [ 8.6   0.42  0.39  1.8   0.07  6.   12.    1.    3.35  0.69 11.7   8.  ]\n",
      " [ 5.5   0.49  0.03  1.8   0.04 28.   87.    0.99  3.5   0.82 14.    8.  ]\n",
      " [ 7.2   0.33  0.33  1.7   0.06  3.   13.    1.    3.23  1.1  10.    8.  ]\n",
      " [ 7.2   0.38  0.31  2.    0.06 15.   29.    0.99  3.23  0.76 11.3   8.  ]\n",
      " [ 7.4   0.36  0.3   1.8   0.07 17.   24.    0.99  3.24  0.7  11.4   8.  ]]\n",
      "[[11.6   0.58  0.66  2.2   0.07 10.   47.    1.    3.25  0.57  9.    3.  ]\n",
      " [10.4   0.61  0.49  2.1   0.2   5.   16.    1.    3.16  0.63  8.4   3.  ]\n",
      " [ 7.4   1.18  0.    4.25  0.1   5.   14.    1.    3.63  0.54 10.7   3.  ]\n",
      " [10.4   0.44  0.42  1.5   0.14 34.   48.    1.    3.38  0.86  9.9   3.  ]\n",
      " [ 8.3   1.02  0.02  3.4   0.08  6.   11.    1.    3.48  0.49 11.    3.  ]\n",
      " [ 7.6   1.58  0.    2.1   0.14  5.    9.    0.99  3.5   0.4  10.9   3.  ]\n",
      " [ 6.8   0.81  0.    1.2   0.27 16.   29.    0.99  3.32  0.51  9.8   3.  ]\n",
      " [ 7.3   0.98  0.05  2.1   0.06 20.   49.    1.    3.31  0.55  9.7   3.  ]\n",
      " [ 7.1   0.88  0.05  5.7   0.08  3.   14.    1.    3.4   0.52 10.2   3.  ]\n",
      " [ 6.7   0.76  0.02  1.8   0.08  6.   12.    1.    3.55  0.63  9.95  3.  ]]\n"
     ]
    }
   ],
   "source": [
    "all_data = data_filter_nan(data) # 모든 데이터 가지고 오기\n",
    "# 가장 좋은 품질의 와인 구하기\n",
    "best_quality_wine_one_data = np.max(all_data[:,-1])\n",
    "best_quality_wine_all_data = all_data[all_data[:,-1] == best_quality_wine_one_data]\n",
    "print(best_quality_wine_all_data)\n",
    "\n",
    "#가장 안좋은 품질의 와인 구하기\n",
    "trash_quality_wine_one_data = np.min(all_data[:,-1])\n",
    "trash_quality_wine_all_data = all_data[all_data[:,-1] == trash_quality_wine_one_data]\n",
    "print(trash_quality_wine_all_data)\n"
   ]
  },
  {
   "cell_type": "code",
   "execution_count": 71,
   "id": "20bf8c1b",
   "metadata": {},
   "outputs": [],
   "source": [
    "#각각의 값 구하기\n",
    "###\n",
    "# fixed acidity\t: index 0\n",
    "# volatile acidity : index 1\n",
    "# citric acid : index 2\n",
    "# residual sugar : index 3\n",
    "# chlorides : index 4\n",
    "# free sulfur dioxide : index 5\n",
    "# total sulfur dioxide : index 6\n",
    "# density : index 7\n",
    "# pH : index 8\n",
    "# sulphates\t: index 9\n",
    "# alcohol : index 10\n"
   ]
  },
  {
   "cell_type": "code",
   "execution_count": 80,
   "id": "d2081db6",
   "metadata": {},
   "outputs": [],
   "source": [
    "#평균을 구해주는 함수 만들기\n",
    "def NumPy_mean(x, y):\n",
    "    result = np.mean(x[:,[y]])\n",
    "    return result"
   ]
  },
  {
   "cell_type": "code",
   "execution_count": 87,
   "id": "c0f00d94",
   "metadata": {},
   "outputs": [
    {
     "name": "stdout",
     "output_type": "stream",
     "text": [
      "8.566667\n",
      "0.42333335\n",
      "0.39111114\n",
      "2.5777776\n",
      "0.068444446\n",
      "13.277778\n",
      "33.444443\n",
      "0.99521226\n",
      "3.2672224\n",
      "0.76777774\n",
      "12.094444\n"
     ]
    }
   ],
   "source": [
    "# 고급 와인 평균 구하기\n",
    "one = NumPy_mean(best_quality_wine_all_data, 0)\n",
    "two = NumPy_mean(best_quality_wine_all_data, 1)\n",
    "three = NumPy_mean(best_quality_wine_all_data, 2)\n",
    "four = NumPy_mean(best_quality_wine_all_data, 3)\n",
    "five = NumPy_mean(best_quality_wine_all_data, 4)\n",
    "six = NumPy_mean(best_quality_wine_all_data, 5)\n",
    "seven = NumPy_mean(best_quality_wine_all_data, 6)\n",
    "eight = NumPy_mean(best_quality_wine_all_data, 7)\n",
    "nine = NumPy_mean(best_quality_wine_all_data, 8)\n",
    "ten = NumPy_mean(best_quality_wine_all_data, 9)\n",
    "eleven = NumPy_mean(best_quality_wine_all_data, 10)\n",
    "\n",
    "\n",
    "all_list = [one, two, three, four, five, six, seven, eight, nine, ten, eleven]\n",
    "\n",
    "for i in all_list:\n",
    "    print(i)\n"
   ]
  },
  {
   "cell_type": "code",
   "execution_count": 88,
   "id": "595004cc",
   "metadata": {},
   "outputs": [
    {
     "name": "stdout",
     "output_type": "stream",
     "text": [
      "8.36\n",
      "0.8845\n",
      "0.171\n",
      "2.6349998\n",
      "0.12249999\n",
      "11.0\n",
      "24.9\n",
      "0.99746406\n",
      "3.398\n",
      "0.57000005\n",
      "9.955\n"
     ]
    }
   ],
   "source": [
    "# 꾸진 와인\n",
    "one1 = NumPy_mean(trash_quality_wine_all_data, 0)\n",
    "two2 = NumPy_mean(trash_quality_wine_all_data, 1)\n",
    "three3 = NumPy_mean(trash_quality_wine_all_data, 2)\n",
    "four4 = NumPy_mean(trash_quality_wine_all_data, 3)\n",
    "five5 = NumPy_mean(trash_quality_wine_all_data, 4)\n",
    "six6 = NumPy_mean(trash_quality_wine_all_data, 5)\n",
    "seven7 = NumPy_mean(trash_quality_wine_all_data, 6)\n",
    "eight8 = NumPy_mean(trash_quality_wine_all_data, 7)\n",
    "nine9 = NumPy_mean(trash_quality_wine_all_data, 8)\n",
    "ten10 = NumPy_mean(trash_quality_wine_all_data, 9)\n",
    "eleven11 = NumPy_mean(trash_quality_wine_all_data, 10)\n",
    "\n",
    "all_list2 = [one1, two2, three3, four4, five5, six6, seven7, eight8, nine9, ten10, eleven11]\n",
    "\n",
    "for i in all_list2:\n",
    "    print(i)\n"
   ]
  },
  {
   "cell_type": "markdown",
   "id": "9def8b5a",
   "metadata": {},
   "source": [
    "<h2><b>연습 9:</b> 축구 토너먼트</h2>"
   ]
  },
  {
   "cell_type": "markdown",
   "id": "79ed266c",
   "metadata": {},
   "source": [
    "- 이 연습은 순열과 복잡한 계산을 활용하는 데 중점을 둡니다.\n",
    "- 귀하의 도시에서 10개 팀이 참가하는 축구 토너먼트가 진행 중입니다. 토너먼트 디렉터는 흥미진진한 1라운드를 원하며, 귀하에게 팀 편성 결정을 위임했습니다.\n",
    "- 전직 데이터 과학자로서의 전문 지식을 활용하여 팀의 현재 시즌 성적을 기반으로 예측 모델을 개발했습니다. 이 모델은 두 팀 간의 점수 차이를 예측합니다.\n",
    "- 모델은 다음에 저장된 2차원 배열을 생성합니다.모델 예측.txt이 행렬의 각 (i, j) 항목은 팀 i와 팀 j 간의 예상 점수 차이를 나타냅니다.\n",
    "- 가장 흥미로운 경기가 펼쳐질 쌍을 결정하는 것이 목표입니다.\n",
    "- 한 팀이 7-1로 이긴다면, 그 경기는 당연히 승자가 2-1로 이긴 경기보다 덜 흥미진진할 것입니다. 가장 흥미로운 경기를 만들어낼 수 있는 쌍을 찾는 기준은 차이의 제곱 합을 최소화하는 쌍 입니다.\n",
    "- 예상 출력은 다음과 같습니다."
   ]
  },
  {
   "cell_type": "markdown",
   "id": "550d6a17",
   "metadata": {},
   "source": [
    "<b><span style=\"color:red\">for 루프 사용은 허용되지 않습니다.</span> 라이브러리를 사용해야 할 수도 있습니다.itertools순열을 생성합니다.</b>"
   ]
  },
  {
   "cell_type": "code",
   "execution_count": 93,
   "id": "d4fadc1c",
   "metadata": {},
   "outputs": [
    {
     "name": "stdout",
     "output_type": "stream",
     "text": [
      "[[  nan -2.3  -4.59 -4.83  3.13  4.13  1.07  2.29  0.44  4.35]\n",
      " [ 2.3    nan  3.57 -4.66  2.3  -3.24  3.63  0.41 -2.   -0.77]\n",
      " [ 4.59 -3.57   nan  1.47  1.15 -1.16  4.97  4.81  1.86  1.5 ]\n",
      " [ 4.83  4.66 -1.47   nan  0.25 -1.9  -0.14  3.89  4.34 -1.42]\n",
      " [-3.13 -2.3  -1.15 -0.25   nan  3.9  -2.73  1.23 -4.16  3.33]\n",
      " [-4.13  3.24  1.16  1.9  -3.9    nan -0.5   2.96 -2.69 -4.48]\n",
      " [-1.07 -3.63 -4.97  0.14  2.73  0.5    nan  4.42 -1.35 -3.95]\n",
      " [-2.29 -0.41 -4.81 -3.89 -1.23 -2.96 -4.42   nan  4.49 -0.4 ]\n",
      " [-0.44  2.   -1.86 -4.34  4.16  2.69  1.35 -4.49   nan  2.29]\n",
      " [-4.35  0.77 -1.5   1.42 -3.33  4.48  3.95  0.4  -2.29   nan]]\n"
     ]
    }
   ],
   "source": [
    "#model.txt 가지고 오기\n",
    "data2 = np.genfromtxt('model.txt' , skip_header = 0 , delimiter = ',' , dtype = np.float32)\n",
    "print(data2)"
   ]
  },
  {
   "cell_type": "code",
   "execution_count": null,
   "id": "477b81fb",
   "metadata": {},
   "outputs": [],
   "source": []
  }
 ],
 "metadata": {
  "kernelspec": {
   "display_name": "london",
   "language": "python",
   "name": "python3"
  },
  "language_info": {
   "codemirror_mode": {
    "name": "ipython",
    "version": 3
   },
   "file_extension": ".py",
   "mimetype": "text/x-python",
   "name": "python",
   "nbconvert_exporter": "python",
   "pygments_lexer": "ipython3",
   "version": "3.10.18"
  }
 },
 "nbformat": 4,
 "nbformat_minor": 5
}
