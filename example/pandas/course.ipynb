{
 "cells": [
  {
   "cell_type": "markdown",
   "id": "7c677205",
   "metadata": {},
   "source": [
    "<h1><b>Pandas</b></h1>\n",
    "<hr>"
   ]
  },
  {
   "cell_type": "markdown",
   "id": "79abec81",
   "metadata": {},
   "source": []
  }
 ],
 "metadata": {
  "language_info": {
   "name": "python"
  }
 },
 "nbformat": 4,
 "nbformat_minor": 5
}
