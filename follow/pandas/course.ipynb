{
 "cells": [
  {
   "cell_type": "markdown",
   "id": "7c677205",
   "metadata": {},
   "source": [
    "<h1><b>Pandas</b></h1>\n",
    "<hr>"
   ]
  },
  {
   "cell_type": "markdown",
   "id": "bf7f7325",
   "metadata": {},
   "source": [
    "<h3><b>개요</b></h3>\n",
    "<p>\n",
    "이 연습 세트는 Python에서 데이터 조작 및 분석을 위한 강력한 라이브러리인 Pandas의 활용에 중점을 둡니다. DataFrames 생성 및 조작, 실제 데이터셋 다루기, 결측값 처리, 다양한 데이터 연산 수행 방법을 배우게 됩니다. 데이터 로딩, 정리, 변환, 기본 분석 등 Pandas의 주요 기능을 다룹니다.\n",
    "</p>\n",
    "<hr>"
   ]
  },
  {
   "cell_type": "markdown",
   "id": "0199d553",
   "metadata": {},
   "source": [
    "<h3><b>역할</b></h3>\n",
    "<p>\n",
    "당신은 다국적 에너지 회사의 데이터 분석가입니다. 당신의 팀은 운영 효율성과 고객 서비스 개선을 위해 다양한 데이터 세트를 분석하는 업무를 맡았습니다.<br>\n",
    "관리자는 깔끔하고 효율적인 코드와 방법 및 결과에 대한 명확한 설명의 중요성을 강조합니다. 기술팀원과 비기술 임원 모두에게 결과를 발표해야 하므로,<br>\n",
    "명확한 시각화와 통찰 내용을 간결하게 요약하는 데 집중하세요.\n",
    "</p>\n",
    "<hr>"
   ]
  },
  {
   "cell_type": "markdown",
   "id": "e01423ae",
   "metadata": {},
   "source": [
    "<h3><b>학습목표</b></h3>\n",
    "<p>\n",
    "오늘의 목표는 판다스 의 실제 활용법을 이해하는 것입니다.<br>\n",
    "판다스는 데이터 과학 분야에서 활발하게 활용되고 있으므로, 앞으로 남은 시간 동안 판다스 활용법을 집중적으로 다룰 예정입니다.<br>\n",
    "Pandas 라이브러리는 데이터 과학 툴킷의 핵심 구성 요소 일 뿐만 아니라 해당 컬렉션의 다른 라이브러리와 함께 사용됩니다.<br>\n",
    "Pandas는 NumPy 패키지를 기반으로 구축되었습니다. 즉, NumPy의 구조 대부분이 Pandas 에서 사용되거나 복제됩니다.<br>\n",
    "Pandas 의 데이터는 SciPy의 통계 분석, Matplotlib의 그래프 작성 함수, Scikit-learn의 머신러닝 알고리즘에 자주 사용됩니다.<br>\n",
    "오늘 다룰 주제의 대부분은 첫 번째 자료에 예시와 함께 설명되어 있습니다. 연습 문제는 의도적으로 적은 편입니다.<br>\n",
    "40페이지 분량의 자료이지만, 5장 전체를 이해하는 데 시간을 투자하세요.\n",
    "</p>\n",
    "<hr>"
   ]
  },
  {
   "cell_type": "markdown",
   "id": "1f0b7fe5",
   "metadata": {},
   "source": [
    "<h3><b>오늘 할일</b></h3>\n",
    "<ol>\n",
    "    <li>연습: 환경 및 라이브러리</li>\n",
    "    <li>연습: 첫 번째 DataFrame</li>\n",
    "    <li>연습문제: 전력소모량</li>\n",
    "    <li>연습: 전자 상거래 구매</li>\n",
    "    <li>연습: 누락된 값 처리</li>\n",
    "</ol>\n",
    "<hr>"
   ]
  },
  {
   "cell_type": "markdown",
   "id": "5f635a60",
   "metadata": {},
   "source": [
    "<h3><b>가상환경</b></h3>\n",
    "<p>NumPy와 동일</p>\n",
    "<hr>"
   ]
  },
  {
   "cell_type": "markdown",
   "id": "76364211",
   "metadata": {},
   "source": [
    "<h2><b>연습1:</b> 첫 번째 DataFrame</h2>"
   ]
  },
  {
   "cell_type": "markdown",
   "id": "168c7087",
   "metadata": {},
   "source": [
    "- 이 연습의 목표는 기본적인 판다스 객체를 만드는 법을 배우는 것입니다."
   ]
  },
  {
   "cell_type": "markdown",
   "id": "094f6505",
   "metadata": {},
   "source": [
    "1. 아래와 같이 두 가지 방법을 사용하여 DataFrame을 만듭니다. (웹 페이지 참고)"
   ]
  },
  {
   "cell_type": "markdown",
   "id": "5f6308c1",
   "metadata": {},
   "source": [
    "2. 각 열의 유형과 각 열의 첫 번째 값의 유형을 인쇄합니다. (웹 페이지 참고)"
   ]
  },
  {
   "cell_type": "code",
   "execution_count": null,
   "id": "599b6510",
   "metadata": {
    "vscode": {
     "languageId": "plaintext"
    }
   },
   "outputs": [],
   "source": []
  }
 ],
 "metadata": {
  "language_info": {
   "name": "python"
  }
 },
 "nbformat": 4,
 "nbformat_minor": 5
}
