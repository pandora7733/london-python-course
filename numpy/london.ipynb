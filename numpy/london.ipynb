{
 "cells": [
  {
   "cell_type": "markdown",
   "id": "4a903d39",
   "metadata": {},
   "source": [
    "<h1><b>Numpy</b></h1>\n",
    "<hr>"
   ]
  },
  {
   "cell_type": "markdown",
   "id": "20aa6705",
   "metadata": {},
   "source": [
    "<h3><b>개요</b></h3>\n",
    "<p>\n",
    "이번의 목표는 NumPy의 실제 사용방법을 이해하는 것 입니다. NumPy는 Python 데이터 분석 패키지 입니다.<br>\n",
    "NumPy로 워크플로우 속도 향샹, scikit-learn과 같은 Numpy내부 패키지와 연동 할 수 있습니다.<br>\n",
    "NumPy는 2000년 중반에 개발 되었으며, Numeric이라는 더 오래된 패키지에서 파생되었습니다.<br>\n",
    "그리고 지금은 데이터 분석, 머신러닝과 같은 분야에 대부분 NumPy를 이용하고 있습니다.\n",
    "</p>\n",
    "<hr>"
   ]
  },
  {
   "cell_type": "markdown",
   "id": "e30dbf49",
   "metadata": {},
   "source": [
    "<h3><b>역할<b></h3>\n",
    "<p>여기서 NumPy 라이브러리를 직접 사용해 보고, 데이터 배열을 생성하고, 슬라이싱하고, 조작하는 기본 원리를 배워봅시다.</p>\n",
    "<hr>"
   ]
  },
  {
   "cell_type": "markdown",
   "id": "97c5bf5d",
   "metadata": {},
   "source": [
    "<h3><b>목표<b></h3>\n",
    "<p>Python에서 수치형 데이터를 효율적으로 조작, 분석하고 통찰력을 추출하기 위한 기본적인 NumPy 연산과 기술을 익힙니다.</p>\n",
    "<hr>"
   ]
  },
  {
   "cell_type": "markdown",
   "id": "27415f1c",
   "metadata": {},
   "source": [
    "<h3><b>가상환경 설정하기<b></h3>\n",
    "<ol>\n",
    "    <li>python 3.X</li>\n",
    "    <li>NumPy</li>\n",
    "    <li>Jupyter or Jupyterlab</li>\n",
    "</ol>\n",
    "<hr>"
   ]
  },
  {
   "cell_type": "markdown",
   "id": "46d1a570",
   "metadata": {},
   "source": [
    "<b>아래 버튼 눌러서 가상환경 생성 영상 ⬇️ </b><br>\n",
    "[가상환경 만들기](https://example.com)"
   ]
  },
  {
   "cell_type": "code",
   "execution_count": 2,
   "id": "9549a134",
   "metadata": {},
   "outputs": [],
   "source": [
    "# numpy 불러오기\n",
    "import numpy as np"
   ]
  },
  {
   "cell_type": "markdown",
   "id": "928e4d73",
   "metadata": {},
   "source": [
    "<h2><b>연습1:</b> 첫 번째 NumPy 배열</h2>"
   ]
  },
  {
   "cell_type": "markdown",
   "id": "cffff811",
   "metadata": {},
   "source": [
    "문제: integeran , a float, a, a string, a dictionary, a list, tuplea, seta 를 포함하는 NumPy 배열을 만듭니다 boolean. Python 파일 끝이나 Jupyter Notebook 셀에 다음 코드를 추가합니다."
   ]
  },
  {
   "cell_type": "code",
   "execution_count": 3,
   "id": "94a5d704",
   "metadata": {},
   "outputs": [
    {
     "name": "stdout",
     "output_type": "stream",
     "text": [
      "<class 'numpy.ndarray'>\n",
      "<class 'int'>\n",
      "<class 'float'>\n",
      "<class 'str'>\n",
      "<class 'dict'>\n",
      "<class 'list'>\n",
      "<class 'tuple'>\n",
      "<class 'set'>\n",
      "<class 'bool'>\n"
     ]
    }
   ],
   "source": [
    "my_np_array = (int(), float(), str(), dict(), list(), tuple(), set(), bool()) # int, float, string, dictionary, list, tuple, set, bool 타입들을 가진 변수 생성\n",
    "my_np_array = np.array([int(), float(), str(), dict(), list(), tuple(), set(), bool()], dtype=object) # Numpy 배열로 만들기\n",
    "print(type(my_np_array)) # Numpy 배열이 맞는지 확인하기\n",
    "\n",
    "# 문제 확인 (int, float, string, dictionary, list, tuple, set, bool)타입들이 잘 나오는지 확인\n",
    "for i in my_np_array:\n",
    "    print(type(i))\n",
    "\n",
    "#1번 문제"
   ]
  },
  {
   "cell_type": "markdown",
   "id": "84024887",
   "metadata": {},
   "source": [
    "<h2><b>연습2:</b> 0</h2>"
   ]
  },
  {
   "cell_type": "markdown",
   "id": "f3a57b3d",
   "metadata": {},
   "source": [
    "- <b>이 연습의 목표는 0으로 구성된 NumPy 배열을 만드는 방법을 배우는 것입니다.</b>\n",
    "\n",
    "1. 수동으로 채우지 않고 0으로 구성된 300 차원 NumPy 배열을 만듭니다.\n",
    "\n",
    "2. (3,100) 으로 재구성"
   ]
  },
  {
   "cell_type": "code",
   "execution_count": 4,
   "id": "b4618ca1",
   "metadata": {},
   "outputs": [
    {
     "name": "stdout",
     "output_type": "stream",
     "text": [
      "[0 0 0 0 0 0 0 0 0 0 0 0 0 0 0 0 0 0 0 0 0 0 0 0 0 0 0 0 0 0 0 0 0 0 0 0 0\n",
      " 0 0 0 0 0 0 0 0 0 0 0 0 0 0 0 0 0 0 0 0 0 0 0 0 0 0 0 0 0 0 0 0 0 0 0 0 0\n",
      " 0 0 0 0 0 0 0 0 0 0 0 0 0 0 0 0 0 0 0 0 0 0 0 0 0 0 0 0 0 0 0 0 0 0 0 0 0\n",
      " 0 0 0 0 0 0 0 0 0 0 0 0 0 0 0 0 0 0 0 0 0 0 0 0 0 0 0 0 0 0 0 0 0 0 0 0 0\n",
      " 0 0 0 0 0 0 0 0 0 0 0 0 0 0 0 0 0 0 0 0 0 0 0 0 0 0 0 0 0 0 0 0 0 0 0 0 0\n",
      " 0 0 0 0 0 0 0 0 0 0 0 0 0 0 0 0 0 0 0 0 0 0 0 0 0 0 0 0 0 0 0 0 0 0 0 0 0\n",
      " 0 0 0 0 0 0 0 0 0 0 0 0 0 0 0 0 0 0 0 0 0 0 0 0 0 0 0 0 0 0 0 0 0 0 0 0 0\n",
      " 0 0 0 0 0 0 0 0 0 0 0 0 0 0 0 0 0 0 0 0 0 0 0 0 0 0 0 0 0 0 0 0 0 0 0 0 0\n",
      " 0 0 0 0]\n",
      "[[0 0 0 0 0 0 0 0 0 0 0 0 0 0 0 0 0 0 0 0 0 0 0 0 0 0 0 0 0 0 0 0 0 0 0 0\n",
      "  0 0 0 0 0 0 0 0 0 0 0 0 0 0 0 0 0 0 0 0 0 0 0 0 0 0 0 0 0 0 0 0 0 0 0 0\n",
      "  0 0 0 0 0 0 0 0 0 0 0 0 0 0 0 0 0 0 0 0 0 0 0 0 0 0 0 0]\n",
      " [0 0 0 0 0 0 0 0 0 0 0 0 0 0 0 0 0 0 0 0 0 0 0 0 0 0 0 0 0 0 0 0 0 0 0 0\n",
      "  0 0 0 0 0 0 0 0 0 0 0 0 0 0 0 0 0 0 0 0 0 0 0 0 0 0 0 0 0 0 0 0 0 0 0 0\n",
      "  0 0 0 0 0 0 0 0 0 0 0 0 0 0 0 0 0 0 0 0 0 0 0 0 0 0 0 0]\n",
      " [0 0 0 0 0 0 0 0 0 0 0 0 0 0 0 0 0 0 0 0 0 0 0 0 0 0 0 0 0 0 0 0 0 0 0 0\n",
      "  0 0 0 0 0 0 0 0 0 0 0 0 0 0 0 0 0 0 0 0 0 0 0 0 0 0 0 0 0 0 0 0 0 0 0 0\n",
      "  0 0 0 0 0 0 0 0 0 0 0 0 0 0 0 0 0 0 0 0 0 0 0 0 0 0 0 0]]\n"
     ]
    }
   ],
   "source": [
    "np_array = np.zeros(300, dtype=int) # 배열 안에 300개의 0을 만들기\n",
    "print(np_array) # 확인하기\n",
    "\n",
    "np_array=np_array.reshape((3, 100)) # reshape(재구성)하기 1차원 -> 2차원 (100개씩 3개)\n",
    "print(np_array) # 확인하기\n"
   ]
  },
  {
   "cell_type": "markdown",
   "id": "af91509e",
   "metadata": {},
   "source": [
    "<h2><b>연습3:</b> 슬라이싱</h2>"
   ]
  },
  {
   "cell_type": "markdown",
   "id": "2388d485",
   "metadata": {},
   "source": [
    "이 연습의 목표는 NumPy 인덱싱/슬라이싱을 배우는 것입니다. for 루프 없이 효율적으로 NumPy 배열의 값에 접근할 수 있습니다."
   ]
  },
  {
   "cell_type": "markdown",
   "id": "0d543d36",
   "metadata": {},
   "source": [
    "<h4>3-1</h4>\n",
    "<ol>\n",
    "    <li>1부터 100까지의 모든 정수를 정렬하여 포함하는 1차원 NumPy 배열을 만듭니다.</li>\n",
    "    <li>for 루프를 사용하지 않고 Q1에서 만든 배열을 사용하여 모든 홀수를 포함하는 배열을 만듭니다.</li>\n",
    "</ol>"
   ]
  },
  {
   "cell_type": "code",
   "execution_count": 5,
   "id": "0d2ae6d5",
   "metadata": {},
   "outputs": [
    {
     "name": "stdout",
     "output_type": "stream",
     "text": [
      "[  1   2   3   4   5   6   7   8   9  10  11  12  13  14  15  16  17  18\n",
      "  19  20  21  22  23  24  25  26  27  28  29  30  31  32  33  34  35  36\n",
      "  37  38  39  40  41  42  43  44  45  46  47  48  49  50  51  52  53  54\n",
      "  55  56  57  58  59  60  61  62  63  64  65  66  67  68  69  70  71  72\n",
      "  73  74  75  76  77  78  79  80  81  82  83  84  85  86  87  88  89  90\n",
      "  91  92  93  94  95  96  97  98  99 100]\n"
     ]
    }
   ],
   "source": [
    "arr = np.arange(1,100+1) # 1부터 100까지의 모든 정수를 가지는 NumPy 배열 만들기\n",
    "print(arr) # 확인하기"
   ]
  },
  {
   "cell_type": "code",
   "execution_count": 6,
   "id": "08f262b5",
   "metadata": {},
   "outputs": [
    {
     "name": "stdout",
     "output_type": "stream",
     "text": [
      "[ 1  3  5  7  9 11 13 15 17 19 21 23 25 27 29 31 33 35 37 39 41 43 45 47\n",
      " 49 51 53 55 57 59 61 63 65 67 69 71 73 75 77 79 81 83 85 87 89 91 93 95\n",
      " 97 99]\n"
     ]
    }
   ],
   "source": [
    "arr = arr[0::2] # 슬라이싱을 사용하여 모든 홀수를 포함하는 배열을 만들기\n",
    "print(arr) # 확인하기"
   ]
  },
  {
   "cell_type": "markdown",
   "id": "399e0177",
   "metadata": {},
   "source": [
    "<h4>3-2</h4>\n",
    "<ol>\n",
    "    <li>for 루프를 사용하지 않고 Q1에서 만든 배열을 사용하여, 모든 짝수 정수를 반전하여 포함하는 배열을 만듭니다.</li>\n",
    "</ol>"
   ]
  },
  {
   "cell_type": "code",
   "execution_count": 7,
   "id": "66731ff6",
   "metadata": {},
   "outputs": [
    {
     "name": "stdout",
     "output_type": "stream",
     "text": [
      "[100  98  96  94  92  90  88  86  84  82  80  78  76  74  72  70  68  66\n",
      "  64  62  60  58  56  54  52  50  48  46  44  42  40  38  36  34  32  30\n",
      "  28  26  24  22  20  18  16  14  12  10   8   6   4   2]\n"
     ]
    }
   ],
   "source": [
    "arr = np.arange(1,100+1) # 100개 생성\n",
    "arr = np.flip(arr[1::2]) # flip을 사용하여 반전 시키기, 슬라이싱으로 짝수 정수만 골라내기\n",
    "print(arr) # 확인하기"
   ]
  },
  {
   "cell_type": "markdown",
   "id": "69856878",
   "metadata": {},
   "source": [
    "<h4>3-3</h4>\n",
    "<ol>\n",
    "    <li>배열을 사용하여 목록의 모든 3개 요소(두 번째부터 시작) 값을 0으로 설정합니다.</li>\n",
    "</ol>"
   ]
  },
  {
   "cell_type": "code",
   "execution_count": 8,
   "id": "3450cc57",
   "metadata": {},
   "outputs": [
    {
     "name": "stdout",
     "output_type": "stream",
     "text": [
      "[  1   0   3   4   0   6   7   0   9  10   0  12  13   0  15  16   0  18\n",
      "  19   0  21  22   0  24  25   0  27  28   0  30  31   0  33  34   0  36\n",
      "  37   0  39  40   0  42  43   0  45  46   0  48  49   0  51  52   0  54\n",
      "  55   0  57  58   0  60  61   0  63  64   0  66  67   0  69  70   0  72\n",
      "  73   0  75  76   0  78  79   0  81  82   0  84  85   0  87  88   0  90\n",
      "  91   0  93  94   0  96  97   0  99 100]\n"
     ]
    }
   ],
   "source": [
    "arr = np.arange(1,100+1) # 100개 생성하기\n",
    "for i in range(1, len(arr), 3): #for문으로 3칸 마다 0으로 만들기\n",
    "    arr[i] = 0\n",
    "print(arr) # 확인하기\n",
    "#3-4"
   ]
  },
  {
   "cell_type": "markdown",
   "id": "4fcf369c",
   "metadata": {},
   "source": [
    "<h2><b>연습4:</b> 무작위</h2>"
   ]
  },
  {
   "cell_type": "markdown",
   "id": "bc9b27d6",
   "metadata": {},
   "source": [
    "<p>이 연습의 목표는 무작위 데이터를 생성하는 방법을 배우는 것입니다. 데이터 과학에서는 여러 가지 이유로 무작위 데이터를 생성하는 것이 매우 유용합니다. 실제 데이터 부족, 무작위 벤치마크 생성, 다양한 데이터 세트 사용 등이 있습니다. NumPy는 무작위 데이터를 생성하는 다양한 옵션을 제공합니다. 통계에서는 데이터의 분포에 대한 가정이 사용됩니다. 무작위로 생성될 수 있는 모든 데이터 분포는 설명서에 설명되어 있습니다. 이 연습에서는 두 가지 분포에 중점을 둡니다.</p>"
   ]
  },
  {
   "cell_type": "markdown",
   "id": "37a79796",
   "metadata": {},
   "source": [
    "- 균등 분포: 예를 들어, 1에서 100까지의 난수를 생성하고 모든 숫자가 같을 확률이 필요하다면 균등 분포가 필요합니다. NumPy는 균등 분포를 생성하기 위해 <code>randint</code>와 를 제공합니다.<code>uniform</code>"
   ]
  },
  {
   "cell_type": "markdown",
   "id": "66d51281",
   "metadata": {},
   "source": [
    "- 정규분포: 정규분포는 통계학에서 가장 중요한 확률 분포로, 다양한 자연 현상에 적합합니다. 예를 들어, 14세 소녀의 키를 나타내는 데이터 샘플을 생성해야 하는 경우 정규분포를 사용하여 수행할 수 있습니다. 이 경우 평균(1m51)과 표준편차(0.0741m)라는 두 가지 매개변수가 필요합니다. NumPy는 <code>randn</code>정규분포를 생성하는 데 필요한 여러 가지 기능을 제공합니다."
   ]
  },
  {
   "cell_type": "markdown",
   "id": "9e614683",
   "metadata": {},
   "source": [
    "<h3><b>조건</b></h3>\n",
    "<ol>\n",
    "    <li><p>시드를 888로 설정하세요</p></li>\n",
    "    <li><p>정규 분포를 따르는 크기 100의 1차원 배열을 생성합니다</p></li>\n",
    "    <li><p>1~10까지의 난수 정수를 포함하는 크기가 8,8인 2차원 배열을 생성합니다(각 정수에 대해 동일한 확률)</p></li>\n",
    "    <li><p>1~17까지의 난수 정수를 포함하는 크기가 4,2,5인 3차원 배열을 생성합니다(각 정수에 대해 동일한 확률)</p></li>\n",
    "</ol>"
   ]
  },
  {
   "cell_type": "code",
   "execution_count": null,
   "id": "c67f560c",
   "metadata": {},
   "outputs": [],
   "source": []
  }
 ],
 "metadata": {
  "kernelspec": {
   "display_name": "london",
   "language": "python",
   "name": "python3"
  },
  "language_info": {
   "codemirror_mode": {
    "name": "ipython",
    "version": 3
   },
   "file_extension": ".py",
   "mimetype": "text/x-python",
   "name": "python",
   "nbconvert_exporter": "python",
   "pygments_lexer": "ipython3",
   "version": "3.10.18"
  }
 },
 "nbformat": 4,
 "nbformat_minor": 5
}
